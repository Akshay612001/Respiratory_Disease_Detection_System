{
 "cells": [
  {
   "cell_type": "code",
   "execution_count": 1,
   "metadata": {},
   "outputs": [],
   "source": [
    "import pandas as pd\n",
    "import matplotlib.pyplot as plt\n",
    "import numpy as np\n",
    "%matplotlib inline"
   ]
  },
  {
   "cell_type": "code",
   "execution_count": 2,
   "metadata": {},
   "outputs": [],
   "source": [
    "data_frame = pd.read_csv(\"FinalData.csv\")"
   ]
  },
  {
   "cell_type": "code",
   "execution_count": 3,
   "metadata": {},
   "outputs": [
    {
     "data": {
      "text/plain": [
       "(309226, 10)"
      ]
     },
     "execution_count": 3,
     "metadata": {},
     "output_type": "execute_result"
    }
   ],
   "source": [
    "data_frame.shape"
   ]
  },
  {
   "cell_type": "code",
   "execution_count": 4,
   "metadata": {
    "scrolled": true
   },
   "outputs": [
    {
     "data": {
      "text/html": [
       "<div>\n",
       "<style scoped>\n",
       "    .dataframe tbody tr th:only-of-type {\n",
       "        vertical-align: middle;\n",
       "    }\n",
       "\n",
       "    .dataframe tbody tr th {\n",
       "        vertical-align: top;\n",
       "    }\n",
       "\n",
       "    .dataframe thead th {\n",
       "        text-align: right;\n",
       "    }\n",
       "</style>\n",
       "<table border=\"1\" class=\"dataframe\">\n",
       "  <thead>\n",
       "    <tr style=\"text-align: right;\">\n",
       "      <th></th>\n",
       "      <th>VAX_TYPE</th>\n",
       "      <th>AGE_YRS</th>\n",
       "      <th>SEX</th>\n",
       "      <th>SLEEPING_PROB</th>\n",
       "      <th>CHEST_TIGHTNESS</th>\n",
       "      <th>BREATH</th>\n",
       "      <th>COUGH</th>\n",
       "      <th>ALLERGY</th>\n",
       "      <th>WHEEZING</th>\n",
       "      <th>ASTHMA</th>\n",
       "    </tr>\n",
       "  </thead>\n",
       "  <tbody>\n",
       "    <tr>\n",
       "      <th>0</th>\n",
       "      <td>HEPA</td>\n",
       "      <td>1.50</td>\n",
       "      <td>M</td>\n",
       "      <td>False</td>\n",
       "      <td>False</td>\n",
       "      <td>False</td>\n",
       "      <td>False</td>\n",
       "      <td>False</td>\n",
       "      <td>False</td>\n",
       "      <td>False</td>\n",
       "    </tr>\n",
       "    <tr>\n",
       "      <th>1</th>\n",
       "      <td>RV5</td>\n",
       "      <td>28.00</td>\n",
       "      <td>F</td>\n",
       "      <td>False</td>\n",
       "      <td>True</td>\n",
       "      <td>True</td>\n",
       "      <td>True</td>\n",
       "      <td>False</td>\n",
       "      <td>True</td>\n",
       "      <td>True</td>\n",
       "    </tr>\n",
       "    <tr>\n",
       "      <th>2</th>\n",
       "      <td>FLU3</td>\n",
       "      <td>53.00</td>\n",
       "      <td>F</td>\n",
       "      <td>False</td>\n",
       "      <td>False</td>\n",
       "      <td>False</td>\n",
       "      <td>False</td>\n",
       "      <td>False</td>\n",
       "      <td>False</td>\n",
       "      <td>False</td>\n",
       "    </tr>\n",
       "    <tr>\n",
       "      <th>3</th>\n",
       "      <td>HEP</td>\n",
       "      <td>69.00</td>\n",
       "      <td>M</td>\n",
       "      <td>False</td>\n",
       "      <td>False</td>\n",
       "      <td>False</td>\n",
       "      <td>False</td>\n",
       "      <td>False</td>\n",
       "      <td>False</td>\n",
       "      <td>False</td>\n",
       "    </tr>\n",
       "    <tr>\n",
       "      <th>4</th>\n",
       "      <td>HEPA</td>\n",
       "      <td>24.00</td>\n",
       "      <td>F</td>\n",
       "      <td>False</td>\n",
       "      <td>False</td>\n",
       "      <td>True</td>\n",
       "      <td>True</td>\n",
       "      <td>False</td>\n",
       "      <td>True</td>\n",
       "      <td>True</td>\n",
       "    </tr>\n",
       "    <tr>\n",
       "      <th>5</th>\n",
       "      <td>TDAP</td>\n",
       "      <td>35.00</td>\n",
       "      <td>F</td>\n",
       "      <td>False</td>\n",
       "      <td>False</td>\n",
       "      <td>False</td>\n",
       "      <td>False</td>\n",
       "      <td>False</td>\n",
       "      <td>False</td>\n",
       "      <td>False</td>\n",
       "    </tr>\n",
       "    <tr>\n",
       "      <th>6</th>\n",
       "      <td>VARZOS</td>\n",
       "      <td>65.00</td>\n",
       "      <td>F</td>\n",
       "      <td>False</td>\n",
       "      <td>False</td>\n",
       "      <td>False</td>\n",
       "      <td>False</td>\n",
       "      <td>False</td>\n",
       "      <td>False</td>\n",
       "      <td>False</td>\n",
       "    </tr>\n",
       "    <tr>\n",
       "      <th>7</th>\n",
       "      <td>PPV</td>\n",
       "      <td>1.58</td>\n",
       "      <td>F</td>\n",
       "      <td>False</td>\n",
       "      <td>False</td>\n",
       "      <td>True</td>\n",
       "      <td>True</td>\n",
       "      <td>False</td>\n",
       "      <td>False</td>\n",
       "      <td>True</td>\n",
       "    </tr>\n",
       "    <tr>\n",
       "      <th>8</th>\n",
       "      <td>FLU4</td>\n",
       "      <td>0.33</td>\n",
       "      <td>F</td>\n",
       "      <td>False</td>\n",
       "      <td>False</td>\n",
       "      <td>False</td>\n",
       "      <td>False</td>\n",
       "      <td>False</td>\n",
       "      <td>False</td>\n",
       "      <td>False</td>\n",
       "    </tr>\n",
       "    <tr>\n",
       "      <th>9</th>\n",
       "      <td>FLU4</td>\n",
       "      <td>62.00</td>\n",
       "      <td>M</td>\n",
       "      <td>False</td>\n",
       "      <td>False</td>\n",
       "      <td>False</td>\n",
       "      <td>False</td>\n",
       "      <td>False</td>\n",
       "      <td>False</td>\n",
       "      <td>False</td>\n",
       "    </tr>\n",
       "  </tbody>\n",
       "</table>\n",
       "</div>"
      ],
      "text/plain": [
       "  VAX_TYPE  AGE_YRS SEX  SLEEPING_PROB  CHEST_TIGHTNESS  BREATH  COUGH  \\\n",
       "0     HEPA     1.50   M          False            False   False  False   \n",
       "1      RV5    28.00   F          False             True    True   True   \n",
       "2     FLU3    53.00   F          False            False   False  False   \n",
       "3      HEP    69.00   M          False            False   False  False   \n",
       "4     HEPA    24.00   F          False            False    True   True   \n",
       "5     TDAP    35.00   F          False            False   False  False   \n",
       "6   VARZOS    65.00   F          False            False   False  False   \n",
       "7      PPV     1.58   F          False            False    True   True   \n",
       "8     FLU4     0.33   F          False            False   False  False   \n",
       "9     FLU4    62.00   M          False            False   False  False   \n",
       "\n",
       "   ALLERGY  WHEEZING  ASTHMA  \n",
       "0    False     False   False  \n",
       "1    False      True    True  \n",
       "2    False     False   False  \n",
       "3    False     False   False  \n",
       "4    False      True    True  \n",
       "5    False     False   False  \n",
       "6    False     False   False  \n",
       "7    False     False    True  \n",
       "8    False     False   False  \n",
       "9    False     False   False  "
      ]
     },
     "execution_count": 4,
     "metadata": {},
     "output_type": "execute_result"
    }
   ],
   "source": [
    "data_frame.head(10)"
   ]
  },
  {
   "cell_type": "code",
   "execution_count": 5,
   "metadata": {},
   "outputs": [
    {
     "data": {
      "text/html": [
       "<div>\n",
       "<style scoped>\n",
       "    .dataframe tbody tr th:only-of-type {\n",
       "        vertical-align: middle;\n",
       "    }\n",
       "\n",
       "    .dataframe tbody tr th {\n",
       "        vertical-align: top;\n",
       "    }\n",
       "\n",
       "    .dataframe thead th {\n",
       "        text-align: right;\n",
       "    }\n",
       "</style>\n",
       "<table border=\"1\" class=\"dataframe\">\n",
       "  <thead>\n",
       "    <tr style=\"text-align: right;\">\n",
       "      <th></th>\n",
       "      <th>VAX_TYPE</th>\n",
       "      <th>AGE_YRS</th>\n",
       "      <th>SEX</th>\n",
       "      <th>SLEEPING_PROB</th>\n",
       "      <th>CHEST_TIGHTNESS</th>\n",
       "      <th>BREATH</th>\n",
       "      <th>COUGH</th>\n",
       "      <th>ALLERGY</th>\n",
       "      <th>WHEEZING</th>\n",
       "      <th>ASTHMA</th>\n",
       "    </tr>\n",
       "  </thead>\n",
       "  <tbody>\n",
       "    <tr>\n",
       "      <th>309216</th>\n",
       "      <td>SMALL</td>\n",
       "      <td>26.0</td>\n",
       "      <td>F</td>\n",
       "      <td>False</td>\n",
       "      <td>False</td>\n",
       "      <td>False</td>\n",
       "      <td>False</td>\n",
       "      <td>False</td>\n",
       "      <td>False</td>\n",
       "      <td>False</td>\n",
       "    </tr>\n",
       "    <tr>\n",
       "      <th>309217</th>\n",
       "      <td>SMALL</td>\n",
       "      <td>53.0</td>\n",
       "      <td>F</td>\n",
       "      <td>False</td>\n",
       "      <td>False</td>\n",
       "      <td>False</td>\n",
       "      <td>True</td>\n",
       "      <td>False</td>\n",
       "      <td>True</td>\n",
       "      <td>True</td>\n",
       "    </tr>\n",
       "    <tr>\n",
       "      <th>309218</th>\n",
       "      <td>FLUN3</td>\n",
       "      <td>30.0</td>\n",
       "      <td>F</td>\n",
       "      <td>False</td>\n",
       "      <td>False</td>\n",
       "      <td>False</td>\n",
       "      <td>False</td>\n",
       "      <td>False</td>\n",
       "      <td>False</td>\n",
       "      <td>False</td>\n",
       "    </tr>\n",
       "    <tr>\n",
       "      <th>309219</th>\n",
       "      <td>HEPA</td>\n",
       "      <td>33.0</td>\n",
       "      <td>M</td>\n",
       "      <td>False</td>\n",
       "      <td>False</td>\n",
       "      <td>False</td>\n",
       "      <td>False</td>\n",
       "      <td>False</td>\n",
       "      <td>False</td>\n",
       "      <td>False</td>\n",
       "    </tr>\n",
       "    <tr>\n",
       "      <th>309220</th>\n",
       "      <td>TDAP</td>\n",
       "      <td>29.0</td>\n",
       "      <td>F</td>\n",
       "      <td>False</td>\n",
       "      <td>False</td>\n",
       "      <td>False</td>\n",
       "      <td>False</td>\n",
       "      <td>False</td>\n",
       "      <td>False</td>\n",
       "      <td>False</td>\n",
       "    </tr>\n",
       "    <tr>\n",
       "      <th>309221</th>\n",
       "      <td>TYP</td>\n",
       "      <td>31.0</td>\n",
       "      <td>M</td>\n",
       "      <td>False</td>\n",
       "      <td>False</td>\n",
       "      <td>False</td>\n",
       "      <td>False</td>\n",
       "      <td>False</td>\n",
       "      <td>False</td>\n",
       "      <td>False</td>\n",
       "    </tr>\n",
       "    <tr>\n",
       "      <th>309222</th>\n",
       "      <td>FLU3</td>\n",
       "      <td>88.0</td>\n",
       "      <td>F</td>\n",
       "      <td>False</td>\n",
       "      <td>False</td>\n",
       "      <td>False</td>\n",
       "      <td>False</td>\n",
       "      <td>False</td>\n",
       "      <td>False</td>\n",
       "      <td>False</td>\n",
       "    </tr>\n",
       "    <tr>\n",
       "      <th>309223</th>\n",
       "      <td>HIBV</td>\n",
       "      <td>13.0</td>\n",
       "      <td>F</td>\n",
       "      <td>True</td>\n",
       "      <td>False</td>\n",
       "      <td>True</td>\n",
       "      <td>True</td>\n",
       "      <td>False</td>\n",
       "      <td>False</td>\n",
       "      <td>True</td>\n",
       "    </tr>\n",
       "    <tr>\n",
       "      <th>309224</th>\n",
       "      <td>FLU3</td>\n",
       "      <td>8.0</td>\n",
       "      <td>M</td>\n",
       "      <td>False</td>\n",
       "      <td>False</td>\n",
       "      <td>False</td>\n",
       "      <td>False</td>\n",
       "      <td>False</td>\n",
       "      <td>False</td>\n",
       "      <td>False</td>\n",
       "    </tr>\n",
       "    <tr>\n",
       "      <th>309225</th>\n",
       "      <td>FLUX</td>\n",
       "      <td>10.0</td>\n",
       "      <td>F</td>\n",
       "      <td>False</td>\n",
       "      <td>False</td>\n",
       "      <td>False</td>\n",
       "      <td>False</td>\n",
       "      <td>False</td>\n",
       "      <td>False</td>\n",
       "      <td>False</td>\n",
       "    </tr>\n",
       "  </tbody>\n",
       "</table>\n",
       "</div>"
      ],
      "text/plain": [
       "       VAX_TYPE  AGE_YRS SEX  SLEEPING_PROB  CHEST_TIGHTNESS  BREATH  COUGH  \\\n",
       "309216    SMALL     26.0   F          False            False   False  False   \n",
       "309217    SMALL     53.0   F          False            False   False   True   \n",
       "309218    FLUN3     30.0   F          False            False   False  False   \n",
       "309219     HEPA     33.0   M          False            False   False  False   \n",
       "309220     TDAP     29.0   F          False            False   False  False   \n",
       "309221      TYP     31.0   M          False            False   False  False   \n",
       "309222     FLU3     88.0   F          False            False   False  False   \n",
       "309223     HIBV     13.0   F           True            False    True   True   \n",
       "309224     FLU3      8.0   M          False            False   False  False   \n",
       "309225     FLUX     10.0   F          False            False   False  False   \n",
       "\n",
       "        ALLERGY  WHEEZING  ASTHMA  \n",
       "309216    False     False   False  \n",
       "309217    False      True    True  \n",
       "309218    False     False   False  \n",
       "309219    False     False   False  \n",
       "309220    False     False   False  \n",
       "309221    False     False   False  \n",
       "309222    False     False   False  \n",
       "309223    False     False    True  \n",
       "309224    False     False   False  \n",
       "309225    False     False   False  "
      ]
     },
     "execution_count": 5,
     "metadata": {},
     "output_type": "execute_result"
    }
   ],
   "source": [
    "data_frame.tail(10)"
   ]
  },
  {
   "cell_type": "code",
   "execution_count": 6,
   "metadata": {},
   "outputs": [
    {
     "name": "stdout",
     "output_type": "stream",
     "text": [
      "True\n",
      "False\n"
     ]
    }
   ],
   "source": [
    "print(data_frame.isnull().values.any())\n",
    "data_frame = data_frame.dropna()\n",
    "print(data_frame.isnull().values.any())"
   ]
  },
  {
   "cell_type": "code",
   "execution_count": 7,
   "metadata": {},
   "outputs": [],
   "source": [
    "def plot_corr(data_frame, size=11):\n",
    "   \n",
    "\n",
    "    corr = data_frame.corr()    # data frame correlation function\n",
    "    fig, ax = plt.subplots(figsize=(size, size))\n",
    "    ax.matshow(corr)   # color code the rectangles by correlation value\n",
    "    plt.xticks(range(len(corr.columns)), corr.columns)  # draw x tick marks\n",
    "    plt.yticks(range(len(corr.columns)), corr.columns)  # draw y tick marks"
   ]
  },
  {
   "cell_type": "code",
   "execution_count": 8,
   "metadata": {},
   "outputs": [
    {
     "data": {
      "image/png": "[encoded data removed]",
      "text/plain": [
       "<Figure size 792x792 with 1 Axes>"
      ]
     },
     "metadata": {
      "needs_background": "light"
     },
     "output_type": "display_data"
    }
   ],
   "source": [
    "plot_corr(data_frame)"
   ]
  },
  {
   "cell_type": "code",
   "execution_count": 9,
   "metadata": {},
   "outputs": [
    {
     "data": {
      "text/html": [
       "<div>\n",
       "<style scoped>\n",
       "    .dataframe tbody tr th:only-of-type {\n",
       "        vertical-align: middle;\n",
       "    }\n",
       "\n",
       "    .dataframe tbody tr th {\n",
       "        vertical-align: top;\n",
       "    }\n",
       "\n",
       "    .dataframe thead th {\n",
       "        text-align: right;\n",
       "    }\n",
       "</style>\n",
       "<table border=\"1\" class=\"dataframe\">\n",
       "  <thead>\n",
       "    <tr style=\"text-align: right;\">\n",
       "      <th></th>\n",
       "      <th>AGE_YRS</th>\n",
       "      <th>SLEEPING_PROB</th>\n",
       "      <th>CHEST_TIGHTNESS</th>\n",
       "      <th>BREATH</th>\n",
       "      <th>COUGH</th>\n",
       "      <th>ALLERGY</th>\n",
       "      <th>WHEEZING</th>\n",
       "      <th>ASTHMA</th>\n",
       "    </tr>\n",
       "  </thead>\n",
       "  <tbody>\n",
       "    <tr>\n",
       "      <th>AGE_YRS</th>\n",
       "      <td>1.000000</td>\n",
       "      <td>-0.011846</td>\n",
       "      <td>0.015164</td>\n",
       "      <td>0.006681</td>\n",
       "      <td>-0.001917</td>\n",
       "      <td>0.030050</td>\n",
       "      <td>-0.017687</td>\n",
       "      <td>-0.004622</td>\n",
       "    </tr>\n",
       "    <tr>\n",
       "      <th>SLEEPING_PROB</th>\n",
       "      <td>-0.011846</td>\n",
       "      <td>1.000000</td>\n",
       "      <td>-0.002622</td>\n",
       "      <td>0.023940</td>\n",
       "      <td>0.021967</td>\n",
       "      <td>0.003580</td>\n",
       "      <td>0.005711</td>\n",
       "      <td>0.175386</td>\n",
       "    </tr>\n",
       "    <tr>\n",
       "      <th>CHEST_TIGHTNESS</th>\n",
       "      <td>0.015164</td>\n",
       "      <td>-0.002622</td>\n",
       "      <td>1.000000</td>\n",
       "      <td>0.081891</td>\n",
       "      <td>0.048109</td>\n",
       "      <td>0.008594</td>\n",
       "      <td>0.062756</td>\n",
       "      <td>0.165649</td>\n",
       "    </tr>\n",
       "    <tr>\n",
       "      <th>BREATH</th>\n",
       "      <td>0.006681</td>\n",
       "      <td>0.023940</td>\n",
       "      <td>0.081891</td>\n",
       "      <td>1.000000</td>\n",
       "      <td>0.119734</td>\n",
       "      <td>0.023684</td>\n",
       "      <td>0.155419</td>\n",
       "      <td>0.540411</td>\n",
       "    </tr>\n",
       "    <tr>\n",
       "      <th>COUGH</th>\n",
       "      <td>-0.001917</td>\n",
       "      <td>0.021967</td>\n",
       "      <td>0.048109</td>\n",
       "      <td>0.119734</td>\n",
       "      <td>1.000000</td>\n",
       "      <td>0.013764</td>\n",
       "      <td>0.176555</td>\n",
       "      <td>0.498538</td>\n",
       "    </tr>\n",
       "    <tr>\n",
       "      <th>ALLERGY</th>\n",
       "      <td>0.030050</td>\n",
       "      <td>0.003580</td>\n",
       "      <td>0.008594</td>\n",
       "      <td>0.023684</td>\n",
       "      <td>0.013764</td>\n",
       "      <td>1.000000</td>\n",
       "      <td>0.017389</td>\n",
       "      <td>0.337186</td>\n",
       "    </tr>\n",
       "    <tr>\n",
       "      <th>WHEEZING</th>\n",
       "      <td>-0.017687</td>\n",
       "      <td>0.005711</td>\n",
       "      <td>0.062756</td>\n",
       "      <td>0.155419</td>\n",
       "      <td>0.176555</td>\n",
       "      <td>0.017389</td>\n",
       "      <td>1.000000</td>\n",
       "      <td>0.330540</td>\n",
       "    </tr>\n",
       "    <tr>\n",
       "      <th>ASTHMA</th>\n",
       "      <td>-0.004622</td>\n",
       "      <td>0.175386</td>\n",
       "      <td>0.165649</td>\n",
       "      <td>0.540411</td>\n",
       "      <td>0.498538</td>\n",
       "      <td>0.337186</td>\n",
       "      <td>0.330540</td>\n",
       "      <td>1.000000</td>\n",
       "    </tr>\n",
       "  </tbody>\n",
       "</table>\n",
       "</div>"
      ],
      "text/plain": [
       "                  AGE_YRS  SLEEPING_PROB  CHEST_TIGHTNESS    BREATH     COUGH  \\\n",
       "AGE_YRS          1.000000      -0.011846         0.015164  0.006681 -0.001917   \n",
       "SLEEPING_PROB   -0.011846       1.000000        -0.002622  0.023940  0.021967   \n",
       "CHEST_TIGHTNESS  0.015164      -0.002622         1.000000  0.081891  0.048109   \n",
       "BREATH           0.006681       0.023940         0.081891  1.000000  0.119734   \n",
       "COUGH           -0.001917       0.021967         0.048109  0.119734  1.000000   \n",
       "ALLERGY          0.030050       0.003580         0.008594  0.023684  0.013764   \n",
       "WHEEZING        -0.017687       0.005711         0.062756  0.155419  0.176555   \n",
       "ASTHMA          -0.004622       0.175386         0.165649  0.540411  0.498538   \n",
       "\n",
       "                  ALLERGY  WHEEZING    ASTHMA  \n",
       "AGE_YRS          0.030050 -0.017687 -0.004622  \n",
       "SLEEPING_PROB    0.003580  0.005711  0.175386  \n",
       "CHEST_TIGHTNESS  0.008594  0.062756  0.165649  \n",
       "BREATH           0.023684  0.155419  0.540411  \n",
       "COUGH            0.013764  0.176555  0.498538  \n",
       "ALLERGY          1.000000  0.017389  0.337186  \n",
       "WHEEZING         0.017389  1.000000  0.330540  \n",
       "ASTHMA           0.337186  0.330540  1.000000  "
      ]
     },
     "execution_count": 9,
     "metadata": {},
     "output_type": "execute_result"
    }
   ],
   "source": [
    "data_frame.corr()"
   ]
  },
  {
   "cell_type": "markdown",
   "metadata": {},
   "source": [
    "### Map all string values by unique integer values for each unique string"
   ]
  },
  {
   "cell_type": "code",
   "execution_count": 10,
   "metadata": {},
   "outputs": [],
   "source": [
    "asthma_map = {True : 1, False : 0}\n",
    "data_frame['ASTHMA'] = data_frame['ASTHMA'].map(asthma_map)\n",
    "\n",
    "sleep_map = {True : 1, False : 0}\n",
    "data_frame['SLEEPING_PROB'] = data_frame['SLEEPING_PROB'].map(sleep_map)\n",
    "\n",
    "chest_map = {True : 1, False : 0}\n",
    "data_frame['CHEST_TIGHTNESS'] = data_frame['CHEST_TIGHTNESS'].map(chest_map)\n",
    "\n",
    "breath_map = {True : 1, False : 0}\n",
    "data_frame['BREATH'] = data_frame['BREATH'].map(breath_map)\n",
    "\n",
    "cough_map = {True : 1, False : 0}\n",
    "data_frame['COUGH'] = data_frame['COUGH'].map(cough_map)\n",
    "\n",
    "allergy_map = {True : 1, False : 0}\n",
    "data_frame['ALLERGY'] = data_frame['ALLERGY'].map(allergy_map)\n",
    "\n",
    "sex_map = {'M' : 1, 'F' : 0, 'U' : 2}\n",
    "data_frame['SEX'] = data_frame['SEX'].map(sex_map)\n",
    "\n",
    "wheezing_map = {True : 1, False : 0}\n",
    "data_frame['WHEEZING'] = data_frame['WHEEZING'].map(wheezing_map)\n",
    "\n",
    "\n",
    "vax_data = data_frame['VAX_TYPE']\n",
    "vax=[]\n",
    "for items in vax_data:\n",
    "    if items in vax:\n",
    "        continue\n",
    "    else:\n",
    "        #print(items)\n",
    "        vax.append(items)\n",
    "#print(\"Vax list: \")\n",
    "#print(vax)\n",
    "\n",
    "key=0\n",
    "vax_map={key: value for (key, value) in zip(vax,range(len(vax))) }\n",
    "data_frame['VAX_TYPE'] = data_frame['VAX_TYPE'].map(vax_map)"
   ]
  },
  {
   "cell_type": "markdown",
   "metadata": {},
   "source": [
    "#### Dataset after mapping"
   ]
  },
  {
   "cell_type": "code",
   "execution_count": 11,
   "metadata": {},
   "outputs": [
    {
     "data": {
      "text/html": [
       "<div>\n",
       "<style scoped>\n",
       "    .dataframe tbody tr th:only-of-type {\n",
       "        vertical-align: middle;\n",
       "    }\n",
       "\n",
       "    .dataframe tbody tr th {\n",
       "        vertical-align: top;\n",
       "    }\n",
       "\n",
       "    .dataframe thead th {\n",
       "        text-align: right;\n",
       "    }\n",
       "</style>\n",
       "<table border=\"1\" class=\"dataframe\">\n",
       "  <thead>\n",
       "    <tr style=\"text-align: right;\">\n",
       "      <th></th>\n",
       "      <th>VAX_TYPE</th>\n",
       "      <th>AGE_YRS</th>\n",
       "      <th>SEX</th>\n",
       "      <th>SLEEPING_PROB</th>\n",
       "      <th>CHEST_TIGHTNESS</th>\n",
       "      <th>BREATH</th>\n",
       "      <th>COUGH</th>\n",
       "      <th>ALLERGY</th>\n",
       "      <th>WHEEZING</th>\n",
       "      <th>ASTHMA</th>\n",
       "    </tr>\n",
       "  </thead>\n",
       "  <tbody>\n",
       "    <tr>\n",
       "      <th>0</th>\n",
       "      <td>0</td>\n",
       "      <td>1.50</td>\n",
       "      <td>1</td>\n",
       "      <td>0</td>\n",
       "      <td>0</td>\n",
       "      <td>0</td>\n",
       "      <td>0</td>\n",
       "      <td>0</td>\n",
       "      <td>0</td>\n",
       "      <td>0</td>\n",
       "    </tr>\n",
       "    <tr>\n",
       "      <th>1</th>\n",
       "      <td>1</td>\n",
       "      <td>28.00</td>\n",
       "      <td>0</td>\n",
       "      <td>0</td>\n",
       "      <td>1</td>\n",
       "      <td>1</td>\n",
       "      <td>1</td>\n",
       "      <td>0</td>\n",
       "      <td>1</td>\n",
       "      <td>1</td>\n",
       "    </tr>\n",
       "    <tr>\n",
       "      <th>2</th>\n",
       "      <td>2</td>\n",
       "      <td>53.00</td>\n",
       "      <td>0</td>\n",
       "      <td>0</td>\n",
       "      <td>0</td>\n",
       "      <td>0</td>\n",
       "      <td>0</td>\n",
       "      <td>0</td>\n",
       "      <td>0</td>\n",
       "      <td>0</td>\n",
       "    </tr>\n",
       "    <tr>\n",
       "      <th>3</th>\n",
       "      <td>3</td>\n",
       "      <td>69.00</td>\n",
       "      <td>1</td>\n",
       "      <td>0</td>\n",
       "      <td>0</td>\n",
       "      <td>0</td>\n",
       "      <td>0</td>\n",
       "      <td>0</td>\n",
       "      <td>0</td>\n",
       "      <td>0</td>\n",
       "    </tr>\n",
       "    <tr>\n",
       "      <th>4</th>\n",
       "      <td>0</td>\n",
       "      <td>24.00</td>\n",
       "      <td>0</td>\n",
       "      <td>0</td>\n",
       "      <td>0</td>\n",
       "      <td>1</td>\n",
       "      <td>1</td>\n",
       "      <td>0</td>\n",
       "      <td>1</td>\n",
       "      <td>1</td>\n",
       "    </tr>\n",
       "    <tr>\n",
       "      <th>5</th>\n",
       "      <td>4</td>\n",
       "      <td>35.00</td>\n",
       "      <td>0</td>\n",
       "      <td>0</td>\n",
       "      <td>0</td>\n",
       "      <td>0</td>\n",
       "      <td>0</td>\n",
       "      <td>0</td>\n",
       "      <td>0</td>\n",
       "      <td>0</td>\n",
       "    </tr>\n",
       "    <tr>\n",
       "      <th>6</th>\n",
       "      <td>5</td>\n",
       "      <td>65.00</td>\n",
       "      <td>0</td>\n",
       "      <td>0</td>\n",
       "      <td>0</td>\n",
       "      <td>0</td>\n",
       "      <td>0</td>\n",
       "      <td>0</td>\n",
       "      <td>0</td>\n",
       "      <td>0</td>\n",
       "    </tr>\n",
       "    <tr>\n",
       "      <th>7</th>\n",
       "      <td>6</td>\n",
       "      <td>1.58</td>\n",
       "      <td>0</td>\n",
       "      <td>0</td>\n",
       "      <td>0</td>\n",
       "      <td>1</td>\n",
       "      <td>1</td>\n",
       "      <td>0</td>\n",
       "      <td>0</td>\n",
       "      <td>1</td>\n",
       "    </tr>\n",
       "    <tr>\n",
       "      <th>8</th>\n",
       "      <td>7</td>\n",
       "      <td>0.33</td>\n",
       "      <td>0</td>\n",
       "      <td>0</td>\n",
       "      <td>0</td>\n",
       "      <td>0</td>\n",
       "      <td>0</td>\n",
       "      <td>0</td>\n",
       "      <td>0</td>\n",
       "      <td>0</td>\n",
       "    </tr>\n",
       "    <tr>\n",
       "      <th>9</th>\n",
       "      <td>7</td>\n",
       "      <td>62.00</td>\n",
       "      <td>1</td>\n",
       "      <td>0</td>\n",
       "      <td>0</td>\n",
       "      <td>0</td>\n",
       "      <td>0</td>\n",
       "      <td>0</td>\n",
       "      <td>0</td>\n",
       "      <td>0</td>\n",
       "    </tr>\n",
       "  </tbody>\n",
       "</table>\n",
       "</div>"
      ],
      "text/plain": [
       "   VAX_TYPE  AGE_YRS  SEX  SLEEPING_PROB  CHEST_TIGHTNESS  BREATH  COUGH  \\\n",
       "0         0     1.50    1              0                0       0      0   \n",
       "1         1    28.00    0              0                1       1      1   \n",
       "2         2    53.00    0              0                0       0      0   \n",
       "3         3    69.00    1              0                0       0      0   \n",
       "4         0    24.00    0              0                0       1      1   \n",
       "5         4    35.00    0              0                0       0      0   \n",
       "6         5    65.00    0              0                0       0      0   \n",
       "7         6     1.58    0              0                0       1      1   \n",
       "8         7     0.33    0              0                0       0      0   \n",
       "9         7    62.00    1              0                0       0      0   \n",
       "\n",
       "   ALLERGY  WHEEZING  ASTHMA  \n",
       "0        0         0       0  \n",
       "1        0         1       1  \n",
       "2        0         0       0  \n",
       "3        0         0       0  \n",
       "4        0         1       1  \n",
       "5        0         0       0  \n",
       "6        0         0       0  \n",
       "7        0         0       1  \n",
       "8        0         0       0  \n",
       "9        0         0       0  "
      ]
     },
     "execution_count": 11,
     "metadata": {},
     "output_type": "execute_result"
    }
   ],
   "source": [
    "data_frame.head(10)"
   ]
  },
  {
   "cell_type": "markdown",
   "metadata": {},
   "source": [
    "###### Checking again of there any null values"
   ]
  },
  {
   "cell_type": "code",
   "execution_count": 12,
   "metadata": {},
   "outputs": [
    {
     "data": {
      "text/plain": [
       "False"
      ]
     },
     "execution_count": 12,
     "metadata": {},
     "output_type": "execute_result"
    }
   ],
   "source": [
    "data_frame.isnull().values.any()"
   ]
  },
  {
   "cell_type": "markdown",
   "metadata": {},
   "source": [
    "### Check class distribution¶\n",
    "Rare events are hard to predict"
   ]
  },
  {
   "cell_type": "code",
   "execution_count": 13,
   "metadata": {},
   "outputs": [
    {
     "name": "stdout",
     "output_type": "stream",
     "text": [
      "Number of True cases:  16089 (6.54%)\n",
      "Number of False cases: 229771 (93.46%)\n"
     ]
    }
   ],
   "source": [
    "num_obs = len(data_frame)\n",
    "num_true = len(data_frame.loc[data_frame['ASTHMA'] == 1])\n",
    "num_false = len(data_frame.loc[data_frame['ASTHMA'] == 0])\n",
    "print(\"Number of True cases:  {0} ({1:2.2f}%)\".format(num_true, ((1.00 * num_true)/(1.0 * num_obs)) * 100))\n",
    "print(\"Number of False cases: {0} ({1:2.2f}%)\".format(num_false, (( 1.0 * num_false)/(1.0 * num_obs)) * 100))"
   ]
  },
  {
   "cell_type": "markdown",
   "metadata": {},
   "source": [
    "### Spliting the data\n",
    "70% for training, 30% for testing"
   ]
  },
  {
   "cell_type": "code",
   "execution_count": 14,
   "metadata": {},
   "outputs": [],
   "source": [
    "from sklearn.model_selection import train_test_split\n",
    "\n",
    "feature_col_names = ['VAX_TYPE', 'AGE_YRS', 'SEX', 'SLEEPING_PROB', 'CHEST_TIGHTNESS', 'BREATH', 'COUGH', 'ALLERGY','WHEEZING']\n",
    "predicted_class_names = ['ASTHMA']\n",
    "\n",
    "X = data_frame[feature_col_names].values     # predictor feature columns (8 X m)\n",
    "y = data_frame[predicted_class_names].values # predicted class (1=true, 0=false) column (1 X m)\n",
    "split_test_size = 0.30\n",
    "\n",
    "X_train, X_test, y_train, y_test = train_test_split(X, y, test_size=split_test_size, random_state=42) \n",
    "                            # test_size = 0.3 is 30%, 42 is the answer to everything"
   ]
  },
  {
   "cell_type": "markdown",
   "metadata": {},
   "source": [
    "#### making sure have we got 70% training data and 30% test data"
   ]
  },
  {
   "cell_type": "code",
   "execution_count": 15,
   "metadata": {},
   "outputs": [
    {
     "name": "stdout",
     "output_type": "stream",
     "text": [
      "70.00% in training set\n",
      "30.00% in test set\n"
     ]
    }
   ],
   "source": [
    "trainval = (1.0 * len(X_train)) / (1.0 * len(data_frame.index))\n",
    "testval = (1.0 * len(X_test)) / (1.0 * len(data_frame.index))\n",
    "print(\"{0:0.2f}% in training set\".format(trainval * 100))\n",
    "print(\"{0:0.2f}% in test set\".format(testval * 100))"
   ]
  },
  {
   "cell_type": "markdown",
   "metadata": {},
   "source": [
    "### Now verify whether the predicted value was split correctly"
   ]
  },
  {
   "cell_type": "code",
   "execution_count": 16,
   "metadata": {},
   "outputs": [
    {
     "name": "stdout",
     "output_type": "stream",
     "text": [
      "Original True  : 16089 (6.54%)\n",
      "Original False : 229771 (93.46%)\n",
      "\n",
      "Training True  : 11272 (6.55%)\n",
      "Training False : 160830 (93.45%)\n",
      "\n",
      "Test True      : 4817 (6.53%)\n",
      "Test False     : 68941 (93.47%)\n"
     ]
    }
   ],
   "source": [
    "print(\"Original True  : {0} ({1:0.2f}%)\".format(len(data_frame.loc[data_frame['ASTHMA'] == 1]), (len(data_frame.loc[data_frame['ASTHMA'] == 1])/len(data_frame.index)) * 100.0))\n",
    "print(\"Original False : {0} ({1:0.2f}%)\".format(len(data_frame.loc[data_frame['ASTHMA'] == 0]), (len(data_frame.loc[data_frame['ASTHMA'] == 0])/len(data_frame.index)) * 100.0))\n",
    "print(\"\")\n",
    "print(\"Training True  : {0} ({1:0.2f}%)\".format(len(y_train[y_train[:] == 1]), (len(y_train[y_train[:] == 1])/len(y_train) * 100.0)))\n",
    "print(\"Training False : {0} ({1:0.2f}%)\".format(len(y_train[y_train[:] == 0]), (len(y_train[y_train[:] == 0])/len(y_train) * 100.0)))\n",
    "print(\"\")\n",
    "print(\"Test True      : {0} ({1:0.2f}%)\".format(len(y_test[y_test[:] == 1]), (len(y_test[y_test[:] == 1])/len(y_test) * 100.0)))\n",
    "print(\"Test False     : {0} ({1:0.2f}%)\".format(len(y_test[y_test[:] == 0]), (len(y_test[y_test[:] == 0])/len(y_test) * 100.0)))"
   ]
  },
  {
   "cell_type": "markdown",
   "metadata": {},
   "source": [
    "### Data Scaling"
   ]
  },
  {
   "cell_type": "code",
   "execution_count": 17,
   "metadata": {},
   "outputs": [],
   "source": [
    "from sklearn.preprocessing import StandardScaler  \n",
    "scaler = StandardScaler()  \n",
    "scaler.fit(X_train)\n",
    "\n",
    "X_train = scaler.transform(X_train)  \n",
    "X_test = scaler.transform(X_test) "
   ]
  },
  {
   "cell_type": "markdown",
   "metadata": {},
   "source": [
    "## Training Algorithm - Naive Bayes"
   ]
  },
  {
   "cell_type": "code",
   "execution_count": 18,
   "metadata": {},
   "outputs": [
    {
     "data": {
      "text/plain": [
       "GaussianNB()"
      ]
     },
     "execution_count": 18,
     "metadata": {},
     "output_type": "execute_result"
    }
   ],
   "source": [
    "from sklearn.naive_bayes import GaussianNB\n",
    "\n",
    "# create Gaussian Naive Bayes model object and train it with the data\n",
    "nb_model = GaussianNB()\n",
    "\n",
    "nb_model.fit(X_train, y_train.ravel())"
   ]
  },
  {
   "cell_type": "markdown",
   "metadata": {},
   "source": [
    "#### Naive Bayes Performance on Train Data and  Test Data"
   ]
  },
  {
   "cell_type": "code",
   "execution_count": 19,
   "metadata": {},
   "outputs": [
    {
     "name": "stdout",
     "output_type": "stream",
     "text": [
      "Accuracy of our naive bayes model is : 0.9667\n",
      "Accuracy of our naive bayes model is: 0.9676\n"
     ]
    }
   ],
   "source": [
    "from sklearn import metrics\n",
    "\n",
    "# this returns array of predicted results\n",
    "prediction_from_trained_data = nb_model.predict(X_train)\n",
    "accuracy = metrics.accuracy_score(y_train, prediction_from_trained_data)\n",
    "\n",
    "print(\"Accuracy of our naive bayes model is : {0:.4f}\".format(accuracy))\n",
    "\n",
    "# this returns array of predicted results from test_data\n",
    "prediction_from_test_data = nb_model.predict(X_test)\n",
    "\n",
    "accuracy = metrics.accuracy_score(y_test, prediction_from_test_data)\n",
    "\n",
    "print(\"Accuracy of our naive bayes model is: {0:0.4f}\".format(accuracy))"
   ]
  },
  {
   "cell_type": "markdown",
   "metadata": {},
   "source": [
    "#### Confusion matrix and classification report of Naive Bayes"
   ]
  },
  {
   "cell_type": "code",
   "execution_count": 20,
   "metadata": {},
   "outputs": [
    {
     "name": "stdout",
     "output_type": "stream",
     "text": [
      "Confusion Matrix\n",
      "[[ 4817     0]\n",
      " [ 2392 66549]]\n",
      "Classification Report\n",
      "              precision    recall  f1-score   support\n",
      "\n",
      "           1       0.67      1.00      0.80      4817\n",
      "           0       1.00      0.97      0.98     68941\n",
      "\n",
      "    accuracy                           0.97     73758\n",
      "   macro avg       0.83      0.98      0.89     73758\n",
      "weighted avg       0.98      0.97      0.97     73758\n",
      "\n"
     ]
    }
   ],
   "source": [
    "print(\"Confusion Matrix\")\n",
    "\n",
    "# labels for set 1=True to upper left and 0 = False to lower right\n",
    "print(\"{0}\".format(metrics.confusion_matrix(y_test, prediction_from_test_data, labels=[1, 0])))\n",
    "\n",
    "print(\"Classification Report\")\n",
    "\n",
    "# labels for set 1=True to upper left and 0 = False to lower right\n",
    "print(\"{0}\".format(metrics.classification_report(y_test, prediction_from_test_data, labels=[1,0])))"
   ]
  },
  {
   "cell_type": "markdown",
   "metadata": {},
   "source": [
    "#### ROC curve(point moving  to the upper left is better)"
   ]
  },
  {
   "cell_type": "code",
   "execution_count": 21,
   "metadata": {},
   "outputs": [
    {
     "data": {
      "image/png": "[encoded data removed]",
      "text/plain": [
       "<Figure size 432x288 with 1 Axes>"
      ]
     },
     "metadata": {
      "needs_background": "light"
     },
     "output_type": "display_data"
    }
   ],
   "source": [
    "# fpr, tpr\n",
    "import numpy as np\n",
    "#import matplotlib.pyplot as plt\n",
    "\n",
    "naive_bayes = np.array([0, 0.66])\n",
    "\n",
    "# plotting\n",
    "plt.scatter(naive_bayes[0], naive_bayes[1], label = 'Naive Bayes', facecolors='black', edgecolors='orange', s=300)\n",
    "\n",
    "plt.plot([0, 1], [0, 1], 'k--')\n",
    "plt.xlim([-0.02, 1.0])\n",
    "plt.ylim([0, 1.0])\n",
    "plt.xlabel('False Positive Rate')\n",
    "plt.ylabel('True Positive Rate')\n",
    "plt.title('Receiver operating characteristic curve')\n",
    "plt.legend(loc='lower center')\n",
    "\n",
    "plt.show()"
   ]
  },
  {
   "cell_type": "markdown",
   "metadata": {},
   "source": [
    "## Training algorithm: Logistic Regression "
   ]
  },
  {
   "cell_type": "code",
   "execution_count": 22,
   "metadata": {},
   "outputs": [],
   "source": [
    "from sklearn.linear_model import LogisticRegression\n",
    "\n",
    "lr_model = LogisticRegression(C=0.7, random_state=50)\n",
    "lr_model.fit(X_train, y_train.ravel())\n",
    "\n",
    "lr_predict_train = lr_model.predict(X_train)"
   ]
  },
  {
   "cell_type": "markdown",
   "metadata": {},
   "source": [
    "#### Accuracy on train set and test set"
   ]
  },
  {
   "cell_type": "code",
   "execution_count": 23,
   "metadata": {},
   "outputs": [
    {
     "name": "stdout",
     "output_type": "stream",
     "text": [
      "\n",
      "LR performance on Training Data:\n",
      "Accuracy: 0.9670\n",
      "\n",
      "LR performance on Test Data:\n",
      "Accuracy: 0.9681\n",
      "\n"
     ]
    }
   ],
   "source": [
    "#get accuracy\n",
    "from sklearn import metrics\n",
    "lr_accuracy = metrics.accuracy_score(y_train, lr_predict_train)\n",
    "\n",
    "#print accuracy\n",
    "from sklearn import metrics\n",
    "print(\"\\nLR performance on Training Data:\")\n",
    "print(\"Accuracy: {0:.4f}\\n\".format(lr_accuracy))\n",
    "\n",
    "\n",
    "lr_predict_test = lr_model.predict(X_test)\n",
    "\n",
    "#get accuracy\n",
    "lr_accuracy_testdata = metrics.accuracy_score(y_test, lr_predict_test)\n",
    "\n",
    "#print accuracy\n",
    "print(\"LR performance on Test Data:\")\n",
    "print(\"Accuracy: {0:.4f}\\n\".format(lr_accuracy_testdata))"
   ]
  },
  {
   "cell_type": "markdown",
   "metadata": {},
   "source": [
    "#### Confusion matrix and classification report"
   ]
  },
  {
   "cell_type": "code",
   "execution_count": 24,
   "metadata": {},
   "outputs": [
    {
     "name": "stdout",
     "output_type": "stream",
     "text": [
      "Confusion Matrix for LR\n",
      "[[ 4552   265]\n",
      " [ 2091 66850]]\n",
      "\n",
      "Classification Report\n",
      "              precision    recall  f1-score   support\n",
      "\n",
      "           1       0.69      0.94      0.79      4817\n",
      "           0       1.00      0.97      0.98     68941\n",
      "\n",
      "    accuracy                           0.97     73758\n",
      "   macro avg       0.84      0.96      0.89     73758\n",
      "weighted avg       0.98      0.97      0.97     73758\n",
      "\n"
     ]
    }
   ],
   "source": [
    "from sklearn.metrics import classification_report, confusion_matrix \n",
    "\n",
    "print(\"Confusion Matrix for LR\")\n",
    "print(\"{0}\".format(confusion_matrix(y_test,lr_predict_test,labels=[1,0])))  \n",
    "\n",
    "print(\"\\nClassification Report\")\n",
    "print(\"{0}\".format(classification_report(y_test,lr_predict_test, labels=[1, 0]))) "
   ]
  },
  {
   "cell_type": "markdown",
   "metadata": {},
   "source": [
    "#### ROC curve(point moving  to the upper left is better)"
   ]
  },
  {
   "cell_type": "code",
   "execution_count": 25,
   "metadata": {},
   "outputs": [
    {
     "data": {
      "image/png": "[encoded data removed]",
      "text/plain": [
       "<Figure size 432x288 with 1 Axes>"
      ]
     },
     "metadata": {
      "needs_background": "light"
     },
     "output_type": "display_data"
    }
   ],
   "source": [
    "import numpy as np\n",
    "#import matplotlib.pyplot as plt\n",
    "\n",
    "\n",
    "logistic = np.array([0.003, 0.68])\n",
    "\n",
    "# plotting\n",
    "plt.scatter(logistic[0], logistic[1], label = 'Logistic Regression', facecolors='orange', edgecolors='orange', s=300)\n",
    "\n",
    "plt.plot([0, 1], [0, 1], 'k--')\n",
    "plt.xlim([-0.02, 1.0])\n",
    "plt.ylim([0, 1.0])\n",
    "plt.xlabel('False Positive Rate')\n",
    "plt.ylabel('True Positive Rate')\n",
    "plt.title('Receiver operating characteristic curve')\n",
    "plt.legend(loc='lower center')\n",
    "\n",
    "plt.show()"
   ]
  },
  {
   "cell_type": "markdown",
   "metadata": {},
   "source": [
    "## Training algorithm: Artificial Neural Network"
   ]
  },
  {
   "cell_type": "code",
   "execution_count": 26,
   "metadata": {},
   "outputs": [
    {
     "data": {
      "text/plain": [
       "MLPClassifier(hidden_layer_sizes=(10, 10, 10), max_iter=1000)"
      ]
     },
     "execution_count": 26,
     "metadata": {},
     "output_type": "execute_result"
    }
   ],
   "source": [
    "from sklearn.neural_network import MLPClassifier  \n",
    "mlp = MLPClassifier(hidden_layer_sizes=(10, 10, 10), max_iter=1000)  \n",
    "mlp.fit(X_train, y_train.ravel()) "
   ]
  },
  {
   "cell_type": "markdown",
   "metadata": {},
   "source": [
    "#### Accuracy on train set and test set"
   ]
  },
  {
   "cell_type": "code",
   "execution_count": 27,
   "metadata": {},
   "outputs": [
    {
     "name": "stdout",
     "output_type": "stream",
     "text": [
      "ANN performance on Training Data:\n",
      "Accuracy: 0.9680\n",
      "\n",
      "ANN performance on Test Data:\n",
      "Accuracy: 0.9693\n",
      "\n"
     ]
    }
   ],
   "source": [
    "from sklearn import metrics\n",
    "print(\"ANN performance on Training Data:\")\n",
    "print(\"Accuracy: {0:.4f}\\n\".format(metrics.accuracy_score(y_train, mlp.predict(X_train))))\n",
    "\n",
    "predictions = mlp.predict(X_test)  \n",
    "print(\"ANN performance on Test Data:\")\n",
    "print(\"Accuracy: {0:.4f}\\n\".format(metrics.accuracy_score(y_test, predictions)))"
   ]
  },
  {
   "cell_type": "markdown",
   "metadata": {},
   "source": [
    "#### Confusion matrix and classification report"
   ]
  },
  {
   "cell_type": "code",
   "execution_count": 28,
   "metadata": {},
   "outputs": [
    {
     "name": "stdout",
     "output_type": "stream",
     "text": [
      "Confusion Matrix for Artificial Neural Network\n",
      "[[ 4145   672]\n",
      " [ 1593 67348]]\n",
      "\n",
      "Classification Report\n",
      "              precision    recall  f1-score   support\n",
      "\n",
      "           1       0.72      0.86      0.79      4817\n",
      "           0       0.99      0.98      0.98     68941\n",
      "\n",
      "    accuracy                           0.97     73758\n",
      "   macro avg       0.86      0.92      0.88     73758\n",
      "weighted avg       0.97      0.97      0.97     73758\n",
      "\n"
     ]
    }
   ],
   "source": [
    "from sklearn.metrics import classification_report, confusion_matrix \n",
    "\n",
    "print(\"Confusion Matrix for Artificial Neural Network\")\n",
    "print(\"{0}\".format(confusion_matrix(y_test,predictions,labels=[1,0])))  \n",
    "\n",
    "print(\"\\nClassification Report\")\n",
    "print(\"{0}\".format(classification_report(y_test,predictions, labels=[1, 0]))) "
   ]
  },
  {
   "cell_type": "markdown",
   "metadata": {},
   "source": [
    "#### ROC curve(point moving  to the upper left is better)"
   ]
  },
  {
   "cell_type": "code",
   "execution_count": 29,
   "metadata": {},
   "outputs": [
    {
     "data": {
      "image/png": "[encoded data removed]",
      "text/plain": [
       "<Figure size 432x288 with 1 Axes>"
      ]
     },
     "metadata": {
      "needs_background": "light"
     },
     "output_type": "display_data"
    }
   ],
   "source": [
    "import numpy as np\n",
    "#import matplotlib.pyplot as plt\n",
    "\n",
    "ann = np.array([0.006,0.70 ])\n",
    "\n",
    "# plotting\n",
    "plt.scatter(ann[0], ann[1], label = 'Artificial Neural Network', facecolors='red', edgecolors='black', s=300)\n",
    "\n",
    "plt.plot([0, 1], [0, 1], 'k--')\n",
    "plt.xlim([-0.02, 1.0])\n",
    "plt.ylim([0, 1.0])\n",
    "plt.xlabel('False Positive Rate')\n",
    "plt.ylabel('True Positive Rate')\n",
    "plt.title('Receiver operating characteristic curve')\n",
    "plt.legend(loc='lower center')\n",
    "\n",
    "plt.show()"
   ]
  },
  {
   "cell_type": "markdown",
   "metadata": {},
   "source": [
    "## Training algorithm: Random Forest"
   ]
  },
  {
   "cell_type": "code",
   "execution_count": 30,
   "metadata": {},
   "outputs": [
    {
     "data": {
      "text/plain": [
       "RandomForestClassifier(random_state=42)"
      ]
     },
     "execution_count": 30,
     "metadata": {},
     "output_type": "execute_result"
    }
   ],
   "source": [
    "from sklearn.ensemble import RandomForestClassifier\n",
    "\n",
    "# Create a RandomForestClassifier object\n",
    "rf_model = RandomForestClassifier(random_state=42)\n",
    "\n",
    "rf_model.fit(X_train, y_train.ravel())"
   ]
  },
  {
   "cell_type": "markdown",
   "metadata": {},
   "source": [
    "#### Accuracy on train set and test set"
   ]
  },
  {
   "cell_type": "code",
   "execution_count": 31,
   "metadata": {},
   "outputs": [
    {
     "name": "stdout",
     "output_type": "stream",
     "text": [
      "\n",
      "RF performance on Training Data:\n",
      "Accuracy: 0.9899\n",
      "\n",
      "RF performance on Test Data:\n",
      "Accuracy: 0.9679\n",
      "\n"
     ]
    }
   ],
   "source": [
    "#get accuracy\n",
    "from sklearn import metrics\n",
    "rf_predict_train = rf_model.predict(X_train)\n",
    "rf_accuracy = metrics.accuracy_score(y_train, rf_predict_train)\n",
    "\n",
    "#print accuracy\n",
    "from sklearn import metrics\n",
    "print(\"\\nRF performance on Training Data:\")\n",
    "print(\"Accuracy: {0:.4f}\\n\".format(rf_accuracy))\n",
    "\n",
    "rf_predict_test = rf_model.predict(X_test)\n",
    "\n",
    "#get accuracy\n",
    "rf_accuracy_testdata = metrics.accuracy_score(y_test, rf_predict_test)\n",
    "\n",
    "#print accuracy\n",
    "print(\"RF performance on Test Data:\")\n",
    "print(\"Accuracy: {0:.4f}\\n\".format(rf_accuracy_testdata))"
   ]
  },
  {
   "cell_type": "markdown",
   "metadata": {},
   "source": [
    "####  Confusion matrix and classification report"
   ]
  },
  {
   "cell_type": "code",
   "execution_count": 32,
   "metadata": {},
   "outputs": [
    {
     "name": "stdout",
     "output_type": "stream",
     "text": [
      "Confusion Matrix for RF\n",
      "[[ 3718  1099]\n",
      " [ 1269 67672]]\n",
      "\n",
      "Classification Report\n",
      "              precision    recall  f1-score   support\n",
      "\n",
      "           1       0.75      0.77      0.76      4817\n",
      "           0       0.98      0.98      0.98     68941\n",
      "\n",
      "    accuracy                           0.97     73758\n",
      "   macro avg       0.86      0.88      0.87     73758\n",
      "weighted avg       0.97      0.97      0.97     73758\n",
      "\n"
     ]
    }
   ],
   "source": [
    "from sklearn.metrics import classification_report, confusion_matrix \n",
    "\n",
    "print(\"Confusion Matrix for RF\")\n",
    "print(\"{0}\".format(confusion_matrix(y_test,rf_predict_test,labels=[1,0])))  \n",
    "\n",
    "print(\"\\nClassification Report\")\n",
    "print(\"{0}\".format(classification_report(y_test,rf_predict_test, labels=[1, 0]))) "
   ]
  },
  {
   "cell_type": "markdown",
   "metadata": {},
   "source": [
    "#### ROC curve(point moving  to the upper left is better)"
   ]
  },
  {
   "cell_type": "code",
   "execution_count": 33,
   "metadata": {},
   "outputs": [
    {
     "data": {
      "image/png": "[encoded data removed]",
      "text/plain": [
       "<Figure size 432x288 with 1 Axes>"
      ]
     },
     "metadata": {
      "needs_background": "light"
     },
     "output_type": "display_data"
    }
   ],
   "source": [
    "# fpr, tpr\n",
    "import numpy as np\n",
    "#import matplotlib.pyplot as plt\n",
    "\n",
    "random_forest = np.array([0.017,0.73])\n",
    "\n",
    "\n",
    "# plotting\n",
    "plt.scatter(random_forest[0], random_forest[1], label = 'Random Forest', facecolors='blue', edgecolors='black', s=300)\n",
    "\n",
    "plt.plot([0, 1], [0, 1], 'k--')\n",
    "plt.xlim([-0.02, 1.0])\n",
    "plt.ylim([0, 1.0])\n",
    "plt.xlabel('False Positive Rate')\n",
    "plt.ylabel('True Positive Rate')\n",
    "plt.title('Receiver operating characteristic curve')\n",
    "plt.legend(loc='lower center')\n",
    "\n",
    "plt.show()"
   ]
  },
  {
   "cell_type": "markdown",
   "metadata": {},
   "source": [
    "## Model Performance Revision - ROC"
   ]
  },
  {
   "cell_type": "code",
   "execution_count": 34,
   "metadata": {},
   "outputs": [
    {
     "data": {
      "image/png": "[encoded data removed]",
      "text/plain": [
       "<Figure size 432x288 with 1 Axes>"
      ]
     },
     "metadata": {
      "needs_background": "light"
     },
     "output_type": "display_data"
    }
   ],
   "source": [
    "\n",
    "# fpr, tpr\n",
    "import numpy as np\n",
    "#import matplotlib.pyplot as plt\n",
    "\n",
    "naive_bayes = np.array([0, 0.66])\n",
    "logistic = np.array([0.003, 0.68])\n",
    "ann = np.array([0.006,0.70 ])\n",
    "random_forest = np.array([0.017,0.73])\n",
    "\n",
    "\n",
    "# plotting\n",
    "plt.scatter(naive_bayes[0], naive_bayes[1], label = 'Naive Bayes', facecolors='black', edgecolors='orange', s=300)\n",
    "plt.scatter(logistic[0], logistic[1], label = 'Logistic Regression', facecolors='orange', edgecolors='orange', s=300)\n",
    "plt.scatter(random_forest[0], random_forest[1], label = 'Random Forest', facecolors='blue', edgecolors='black', s=300)\n",
    "plt.scatter(ann[0], ann[1], label = 'Artificial Neural Network', facecolors='red', edgecolors='black', s=300)\n",
    "\n",
    "plt.plot([0, 1], [0, 1], 'k--')\n",
    "plt.xlim([-0.02, 1.0])\n",
    "plt.ylim([0, 1.0])\n",
    "plt.xlabel('False Positive Rate')\n",
    "plt.ylabel('True Positive Rate')\n",
    "plt.title('Receiver operating characteristic curve')\n",
    "plt.legend(loc='lower center')\n",
    "\n",
    "plt.show()"
   ]
  },
  {
   "cell_type": "code",
   "execution_count": null,
   "metadata": {},
   "outputs": [],
   "source": []
  },
  {
   "cell_type": "code",
   "execution_count": null,
   "metadata": {},
   "outputs": [],
   "source": []
  },
  {
   "cell_type": "code",
   "execution_count": null,
   "metadata": {},
   "outputs": [],
   "source": []
  }
 ],
 "metadata": {
  "kernelspec": {
   "display_name": "Python 3",
   "language": "python",
   "name": "python3"
  },
  "language_info": {
   "codemirror_mode": {
    "name": "ipython",
    "version": 3
   },
   "file_extension": ".py",
   "mimetype": "text/x-python",
   "name": "python",
   "nbconvert_exporter": "python",
   "pygments_lexer": "ipython3",
   "version": "3.6.8"
  },
  "toc": {
   "base_numbering": 1,
   "nav_menu": {},
   "number_sections": true,
   "sideBar": true,
   "skip_h1_title": false,
   "title_cell": "Table of Contents",
   "title_sidebar": "Contents",
   "toc_cell": false,
   "toc_position": {},
   "toc_section_display": true,
   "toc_window_display": false
  }
 },
 "nbformat": 4,
 "nbformat_minor": 2
}
